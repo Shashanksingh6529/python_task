{
 "cells": [
  {
   "cell_type": "markdown",
   "id": "b5480bfa-c521-451d-b7a8-727897afab20",
   "metadata": {},
   "source": [
    "Q1. Function to calculate the product of all numbers in a flat list:"
   ]
  },
  {
   "cell_type": "code",
   "execution_count": null,
   "id": "5a03d010-4b4b-418a-9e32-943335a33766",
   "metadata": {},
   "outputs": [],
   "source": []
  }
 ],
 "metadata": {
  "kernelspec": {
   "display_name": "Python 3 (ipykernel)",
   "language": "python",
   "name": "python3"
  },
  "language_info": {
   "codemirror_mode": {
    "name": "ipython",
    "version": 3
   },
   "file_extension": ".py",
   "mimetype": "text/x-python",
   "name": "python",
   "nbconvert_exporter": "python",
   "pygments_lexer": "ipython3",
   "version": "3.10.8"
  }
 },
 "nbformat": 4,
 "nbformat_minor": 5
}
